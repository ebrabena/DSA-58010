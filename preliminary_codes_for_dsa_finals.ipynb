{
  "nbformat": 4,
  "nbformat_minor": 0,
  "metadata": {
    "colab": {
      "provenance": [],
      "authorship_tag": "ABX9TyOMFtQqIQQTgA6bYzr7K6M5",
      "include_colab_link": true
    },
    "kernelspec": {
      "name": "python3",
      "display_name": "Python 3"
    },
    "language_info": {
      "name": "python"
    }
  },
  "cells": [
    {
      "cell_type": "markdown",
      "metadata": {
        "id": "view-in-github",
        "colab_type": "text"
      },
      "source": [
        "<a href=\"https://colab.research.google.com/github/ebrabena/DSA-58010/blob/main/preliminary_codes_for_dsa_finals.ipynb\" target=\"_parent\"><img src=\"https://colab.research.google.com/assets/colab-badge.svg\" alt=\"Open In Colab\"/></a>"
      ]
    },
    {
      "cell_type": "code",
      "execution_count": null,
      "metadata": {
        "colab": {
          "base_uri": "https://localhost:8080/"
        },
        "id": "UQaZ99JMxtmY",
        "outputId": "bf91a3cd-00d3-41c5-c4fa-dcc827f3f3bd"
      },
      "outputs": [
        {
          "output_type": "stream",
          "name": "stdout",
          "text": [
            "2345\n",
            "Pushed Element: 2345\n",
            "23454\n",
            "Pushed Element: 23454\n",
            "09339221078\n",
            "Pushed Element: 09339221078\n",
            "0932231334\n",
            "Pushed Element: 0932231334\n",
            "2325254235\n",
            "Pushed Element: 2325254235\n",
            "The elements in the stack are:['0932231334', '2325254235']\n",
            "The length of the stack is: 2\n"
          ]
        }
      ],
      "source": [
        "# Stack implementation in python\n",
        "\n",
        "# Creating a stack\n",
        "def create_stack():\n",
        "    stack = []\n",
        "    return stack\n",
        "\n",
        "# Creating an empty stack\n",
        "def is_empty(stack):\n",
        "    return len(stack) == 0\n",
        "\n",
        "# Adding items into the stack\n",
        "def push(stack, item):\n",
        "    stack.append(item)\n",
        "    print(\"Pushed Element: \" + item)\n",
        "\n",
        "# Removing an element from the stack\n",
        "def pop(stack):\n",
        "    if (is_empty(stack)):\n",
        "        return \"The stack is empty\"\n",
        "    return stack.pop()\n",
        "\n",
        "stack = create_stack()\n",
        "push(stack, input(str()))\n",
        "push(stack, input(str()))\n",
        "push(stack, input(str()))\n",
        "push(stack, input(str()))\n",
        "push(stack, input(str()))\n",
        "\n",
        "stack.pop(0) # Number 3: Popping 3 elements on top of the stack\n",
        "stack.pop(0)\n",
        "stack.pop(0)\n",
        "\n",
        "L = len(stack) # Number 4: Determining the length of the stack\n",
        "print(\"The elements in the stack are:\"+ str(stack))\n",
        "print(\"The length of the stack is:\",L)"
      ]
    },
    {
      "cell_type": "code",
      "source": [
        "from tabulate import tabulate\n",
        "\n",
        "print(\"Type 'end' to cancel or to end session.\\n\")\n",
        "\n",
        "numbers = []\n",
        "names = []\n",
        "table = [numbers, names]\n",
        "\n",
        "while True:\n",
        "  num = input(\"Enter a number: \")\n",
        "  numbers.append(num)\n",
        "  id = input(\"Name your contact: \")\n",
        "  names.append(id)\n",
        "  while True:\n",
        "    con1 = input(\"Confirm? (type y to confirm)\\n\")\n",
        "    if con1 != 'y':\n",
        "      numbers.pop()\n",
        "      names.pop()\n",
        "      print(\"Cancellation status:\")\n",
        "      break\n",
        "    else:\n",
        "      break\n",
        "  if num != 'end':\n",
        "    print(\"Success\\n\")\n",
        "  else:\n",
        "    break\n",
        "\n",
        "print(tabulate(table))"
      ],
      "metadata": {
        "id": "8zlqXOGU_pfH",
        "colab": {
          "base_uri": "https://localhost:8080/"
        },
        "outputId": "5184a612-a654-4c0d-d95e-af6a945bf2f3"
      },
      "execution_count": null,
      "outputs": [
        {
          "output_type": "stream",
          "name": "stdout",
          "text": [
            "Type 'end' to cancel or to end session.\n",
            "\n"
          ]
        }
      ]
    },
    {
      "cell_type": "code",
      "source": [
        "print(\"Type 'end' to cancel or to end session.\\n\")\n",
        "\n",
        "numbers = [\"Number:\"]\n",
        "names = [\"Names:\"]\n",
        "table = [numbers, names]\n",
        "\n",
        "while True:\n",
        "  num = input(\"Enter a number: \")\n",
        "  numbers.append(num)\n",
        "  id = input(\"Name your contact: \")\n",
        "  names.append(id)\n",
        "  while True:\n",
        "    con1 = input(\"Confirm? (type y to confirm)\\n\")\n",
        "    if con1 != 'y':\n",
        "      numbers.pop()\n",
        "      names.pop()\n",
        "      break\n",
        "    else:\n",
        "      break\n",
        "  if num != 'end':\n",
        "    length = len(numbers)\n",
        "    print(\"Contacts stored:\", (length-1),\"\\n\")\n",
        "  else:\n",
        "    break\n",
        "\n",
        "res = \"\\n\".join(\"{} {}\".format(x, y) for x, y in zip(numbers, names))\n",
        "print(\"\\n\",res)"
      ],
      "metadata": {
        "colab": {
          "base_uri": "https://localhost:8080/"
        },
        "id": "uo4ylA5XiOZ-",
        "outputId": "947be677-67c9-4ac7-f049-6a036da0c4b9"
      },
      "execution_count": null,
      "outputs": [
        {
          "output_type": "stream",
          "name": "stdout",
          "text": [
            "Type 'end' to cancel or to end session.\n",
            "\n",
            "Enter a number: 1287378123\n",
            "Name your contact: edr\n",
            "Confirm? (type y to confirm)\n",
            "y\n",
            "Contacts stored: 1 \n",
            "\n",
            "Enter a number: 123432\n",
            "Name your contact: lol\n",
            "Confirm? (type y to confirm)\n",
            "y\n",
            "Contacts stored: 2 \n",
            "\n",
            "Enter a number: 812738782\n",
            "Name your contact: hello\n",
            "Confirm? (type y to confirm)\n",
            "no\n",
            "Contacts stored: 2 \n",
            "\n",
            "Enter a number: 849398\n",
            "Name your contact: yes\n",
            "Confirm? (type y to confirm)\n",
            "y\n",
            "Contacts stored: 3 \n",
            "\n",
            "Enter a number: end\n",
            "Name your contact: end\n",
            "Confirm? (type y to confirm)\n",
            "end\n",
            "\n",
            " Number: Names:\n",
            "1287378123 edr\n",
            "123432 lol\n",
            "849398 yes\n"
          ]
        }
      ]
    },
    {
      "cell_type": "code",
      "source": [
        "numbers = ['a', 'b', 'c']\n",
        "letters = ['1', '0', '0']\n",
        "res = \"\\n\".join(\"{} {}\".format(x, y) for x, y in zip(letters, numbers))\n",
        "\n",
        "print(res)"
      ],
      "metadata": {
        "colab": {
          "base_uri": "https://localhost:8080/"
        },
        "id": "RyniqDTEf1-1",
        "outputId": "1902ebde-8f60-4f3c-cf55-dd851858e3a8"
      },
      "execution_count": null,
      "outputs": [
        {
          "output_type": "stream",
          "name": "stdout",
          "text": [
            "1 a\n",
            "0 b\n",
            "0 c\n"
          ]
        }
      ]
    }
  ]
}