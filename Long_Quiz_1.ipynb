{
  "nbformat": 4,
  "nbformat_minor": 0,
  "metadata": {
    "colab": {
      "provenance": [],
      "authorship_tag": "ABX9TyMzqrIRjS0D5K+2u9cSugW6",
      "include_colab_link": true
    },
    "kernelspec": {
      "name": "python3",
      "display_name": "Python 3"
    },
    "language_info": {
      "name": "python"
    }
  },
  "cells": [
    {
      "cell_type": "markdown",
      "metadata": {
        "id": "view-in-github",
        "colab_type": "text"
      },
      "source": [
        "<a href=\"https://colab.research.google.com/github/ebrabena/DSA-58010/blob/main/Long_Quiz_1.ipynb\" target=\"_parent\"><img src=\"https://colab.research.google.com/assets/colab-badge.svg\" alt=\"Open In Colab\"/></a>"
      ]
    },
    {
      "cell_type": "code",
      "execution_count": 32,
      "metadata": {
        "colab": {
          "base_uri": "https://localhost:8080/"
        },
        "id": "sdMhaTPhPMD_",
        "outputId": "9886b0db-ad33-4d12-afb2-da0c774344d7"
      },
      "outputs": [
        {
          "output_type": "stream",
          "name": "stdout",
          "text": [
            "['E', 'd', 'r', 'i', 'a', 'n', '', 'B', 'o', 'r', 'i', 'n', 'a', 'g', 'a', '', 'R', 'a', 'b', 'e', 'n', 'a']\n",
            "Reversed:\n",
            " a\n",
            " n\n",
            " e\n",
            " b\n",
            " a\n",
            " R\n",
            " \n",
            " a\n",
            " g\n",
            " a\n",
            " n\n",
            " i\n",
            " r\n",
            " o\n",
            " B\n",
            " \n",
            " n\n",
            " a\n",
            " i\n",
            " r\n",
            " d\n",
            " E\n"
          ]
        }
      ],
      "source": [
        "name = []\n",
        "\n",
        "name.append('E')\n",
        "name.append('d')\n",
        "name.append('r')\n",
        "name.append('i')\n",
        "name.append('a')\n",
        "name.append('n')\n",
        "name.append('')\n",
        "name.append('B')\n",
        "name.append('o')\n",
        "name.append('r')\n",
        "name.append('i')\n",
        "name.append('n')\n",
        "name.append('a')\n",
        "name.append('g')\n",
        "name.append('a')\n",
        "name.append('')\n",
        "name.append('R')\n",
        "name.append('a')\n",
        "name.append('b')\n",
        "name.append('e')\n",
        "name.append('n')\n",
        "name.append('a')\n",
        "\n",
        "print(name)\n",
        "\n",
        "name.reverse()\n",
        "print('Reversed:')\n",
        "for x in name:\n",
        "  print('', x)"
      ]
    }
  ]
}