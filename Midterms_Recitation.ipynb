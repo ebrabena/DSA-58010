{
  "nbformat": 4,
  "nbformat_minor": 0,
  "metadata": {
    "colab": {
      "provenance": [],
      "authorship_tag": "ABX9TyP0UCRVkymDh9AA0GEzXxzQ",
      "include_colab_link": true
    },
    "kernelspec": {
      "name": "python3",
      "display_name": "Python 3"
    },
    "language_info": {
      "name": "python"
    }
  },
  "cells": [
    {
      "cell_type": "markdown",
      "metadata": {
        "id": "view-in-github",
        "colab_type": "text"
      },
      "source": [
        "<a href=\"https://colab.research.google.com/github/ebrabena/DSA-58010/blob/main/Midterms_Recitation.ipynb\" target=\"_parent\"><img src=\"https://colab.research.google.com/assets/colab-badge.svg\" alt=\"Open In Colab\"/></a>"
      ]
    },
    {
      "cell_type": "code",
      "execution_count": 3,
      "metadata": {
        "colab": {
          "base_uri": "https://localhost:8080/"
        },
        "id": "jIGC7z_yGwq4",
        "outputId": "bf95a8b3-1d4d-4602-ae58-34bc02cde02d"
      },
      "outputs": [
        {
          "output_type": "stream",
          "name": "stdout",
          "text": [
            "Thu\n",
            "Wed\n"
          ]
        }
      ],
      "source": [
        "class Stack:\n",
        "   def __init__(self):\n",
        "      self.stack = []\n",
        "\n",
        "   def add(self, dataval):\n",
        "# Use list append method to add element\n",
        "      if dataval not in self.stack:\n",
        "         self.stack.append(dataval)\n",
        "         return True\n",
        "      else:\n",
        "         return False\n",
        "\n",
        "# Use list pop method to remove element\n",
        "   def remove(self):\n",
        "      if len(self.stack) <= 0:\n",
        "         return (\"No element in the Stack\")\n",
        "      else:\n",
        "         return self.stack.pop()\n",
        "\n",
        "AStack = Stack()\n",
        "AStack.add(\"Mon\")\n",
        "AStack.add(\"Tue\")\n",
        "AStack.add(\"Wed\")\n",
        "AStack.add(\"Thu\")\n",
        "print(AStack.remove())\n",
        "print(AStack.remove())"
      ]
    }
  ]
}