{
  "nbformat": 4,
  "nbformat_minor": 0,
  "metadata": {
    "colab": {
      "provenance": [],
      "authorship_tag": "ABX9TyOJ6ya6rhiQ9WZ1hkyEBB8Q",
      "include_colab_link": true
    },
    "kernelspec": {
      "name": "python3",
      "display_name": "Python 3"
    },
    "language_info": {
      "name": "python"
    }
  },
  "cells": [
    {
      "cell_type": "markdown",
      "metadata": {
        "id": "view-in-github",
        "colab_type": "text"
      },
      "source": [
        "<a href=\"https://colab.research.google.com/github/ebrabena/DSA-58010/blob/main/Activity_2.ipynb\" target=\"_parent\"><img src=\"https://colab.research.google.com/assets/colab-badge.svg\" alt=\"Open In Colab\"/></a>"
      ]
    },
    {
      "cell_type": "code",
      "execution_count": 7,
      "metadata": {
        "colab": {
          "base_uri": "https://localhost:8080/"
        },
        "id": "egHa2MOPEaFe",
        "outputId": "7c86834a-d220-4bdd-ffe6-188beb5175b8"
      },
      "outputs": [
        {
          "output_type": "stream",
          "name": "stdout",
          "text": [
            "[1, 2, 3, 5, 7, 11, 13, 17, 19]\n",
            "Head: 1\n",
            "Tail: 19\n"
          ]
        }
      ],
      "source": [
        "primeNo = [1, 2, 3, 5, 7, 11, 13, 17, 19]\n",
        "\n",
        "head = primeNo [0]\n",
        "tail = primeNo [-1]\n",
        "\n",
        "print(primeNo)\n",
        "print('Head:',head)\n",
        "print('Tail:',tail)"
      ]
    }
  ]
}