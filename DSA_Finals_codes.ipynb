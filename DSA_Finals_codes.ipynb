{
  "nbformat": 4,
  "nbformat_minor": 0,
  "metadata": {
    "colab": {
      "provenance": [],
      "authorship_tag": "ABX9TyNqTVal3+ImoiK4brgPTSo1",
      "include_colab_link": true
    },
    "kernelspec": {
      "name": "python3",
      "display_name": "Python 3"
    },
    "language_info": {
      "name": "python"
    }
  },
  "cells": [
    {
      "cell_type": "markdown",
      "metadata": {
        "id": "view-in-github",
        "colab_type": "text"
      },
      "source": [
        "<a href=\"https://colab.research.google.com/github/ebrabena/DSA-58010/blob/main/DSA_Finals_codes.ipynb\" target=\"_parent\"><img src=\"https://colab.research.google.com/assets/colab-badge.svg\" alt=\"Open In Colab\"/></a>"
      ]
    },
    {
      "cell_type": "code",
      "source": [
        "import mysql.connector\n",
        "\n",
        "mydb = mysql.connector.connect(\n",
        "    host = \"localhost\",\n",
        "    user = \"root\",\n",
        "    passwd = \"myPhone\",\n",
        "    database = \"Phonebook\"\n",
        ")\n",
        "\n",
        "mycursor = mydb.cursor()\n",
        "\n",
        "condition1 = 0\n",
        "user_action1 = (input(\"Type 1 for login, 2 for register.\\n\"))\n",
        "\n",
        "if user_action1 == '1':\n",
        "    select_local = \"SELECT * FROM local_accounts WHERE name = %s\"\n",
        "    name_temp = input(\"Enter username: \")\n",
        "    mycursor.execute(select_local, (name_temp, ))\n",
        "    local_row = mycursor.fetchall()\n",
        "    for result in local_row:\n",
        "        password_temp = input(\"Enter password: \")\n",
        "        temp_add = (name_temp, password_temp, 0)\n",
        "        mydb.commit()\n",
        "        if result == temp_add:\n",
        "            print(\"Login successful!\")\n",
        "            condition1 = 1\n",
        "            delete_temp = \"DELETE FROM temp\"\n",
        "            mycursor.execute(delete_temp)\n",
        "            mydb.commit()\n",
        "        else:\n",
        "            print(\"Login failed!\")\n",
        "            condition1 = 0\n",
        "            delete_temp = \"DELETE FROM temp\"\n",
        "            mycursor.execute(delete_temp)\n",
        "            mydb.commit()\n",
        "\n",
        "\n",
        "\n",
        "elif user_action1 == '2':\n",
        "    sqlFormula = \"INSERT INTO local_accounts (name, password, level_auth) VALUES (%s, %s, %s)\"\n",
        "    local_account_add = (input(\"Enter username: \"), input(\"Enter password: \"), 0)\n",
        "    mycursor.execute(sqlFormula, local_account_add)\n",
        "    mydb.commit()\n",
        "    print(local_account_add)\n",
        "\n",
        "elif user_action1 == '3':\n",
        "    mycursor.execute(\"CREATE TABLE temp (name VARCHAR(255), password VARCHAR(255), level_auth INTEGER(1))\")\n",
        "\n",
        "if condition1 == 1:\n",
        "    user_action2 = (input(\"Type 1 to view contacts; 2 to view messages; 3 to create emails; or 4 to end session.\"))\n",
        "    if user_action2 == '1':\n",
        "        print(\"view local or foreign\")\n",
        "elif condition1 == 2:\n",
        "    print(\"view messages\")\n",
        "elif condition1 == 3:\n",
        "    print(\"create emails\")\n",
        "else:\n",
        "    print(\"Session end\")"
      ],
      "metadata": {
        "id": "NdjGzu1eUjNI"
      },
      "execution_count": null,
      "outputs": []
    }
  ]
}