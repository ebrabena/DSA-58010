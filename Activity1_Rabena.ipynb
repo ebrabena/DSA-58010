{
  "nbformat": 4,
  "nbformat_minor": 0,
  "metadata": {
    "colab": {
      "name": "Activity1_Rabena.ipynb",
      "provenance": [],
      "authorship_tag": "ABX9TyM/tk5/FqVC/vXBSreuTqEn",
      "include_colab_link": true
    },
    "kernelspec": {
      "name": "python3",
      "display_name": "Python 3"
    },
    "language_info": {
      "name": "python"
    }
  },
  "cells": [
    {
      "cell_type": "markdown",
      "metadata": {
        "id": "view-in-github",
        "colab_type": "text"
      },
      "source": [
        "<a href=\"https://colab.research.google.com/github/ebrabena/DSA-58010/blob/main/Activity1_Rabena.ipynb\" target=\"_parent\"><img src=\"https://colab.research.google.com/assets/colab-badge.svg\" alt=\"Open In Colab\"/></a>"
      ]
    },
    {
      "cell_type": "code",
      "execution_count": 10,
      "metadata": {
        "colab": {
          "base_uri": "https://localhost:8080/"
        },
        "id": "YXDfkOdlVFYZ",
        "outputId": "355f3188-3446-4e63-c8de-ff00da00eb8a"
      },
      "outputs": [
        {
          "output_type": "stream",
          "name": "stdout",
          "text": [
            "Enter the radius: 23\n",
            "Area = 1661.06\n"
          ]
        }
      ],
      "source": [
        "pi = 3.14\n",
        "radius = float(input('Enter the radius: '))\n",
        "area = pi*radius*radius\n",
        "\n",
        "print(\"Area = %.2f\"%area)"
      ]
    },
    {
      "cell_type": "code",
      "source": [
        "pi = 3.14\n",
        "diameter = float(input('Enter the diameter: '))\n",
        "area = (pi*diameter*diameter)/4\n",
        "\n",
        "print(\"Area = %.2f\"%area)"
      ],
      "metadata": {
        "colab": {
          "base_uri": "https://localhost:8080/"
        },
        "id": "ZzqiGnPPYMq4",
        "outputId": "05f76fcb-e1cd-4144-e135-f3f4531842fb"
      },
      "execution_count": 15,
      "outputs": [
        {
          "output_type": "stream",
          "name": "stdout",
          "text": [
            "Enter the diameter: 23\n",
            "Area = 415.26\n"
          ]
        }
      ]
    }
  ]
}