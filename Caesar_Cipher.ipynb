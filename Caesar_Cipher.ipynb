{
  "nbformat": 4,
  "nbformat_minor": 0,
  "metadata": {
    "colab": {
      "provenance": [],
      "authorship_tag": "ABX9TyMP3DuPVFHs+XsMN9RHhYQh",
      "include_colab_link": true
    },
    "kernelspec": {
      "name": "python3",
      "display_name": "Python 3"
    },
    "language_info": {
      "name": "python"
    }
  },
  "cells": [
    {
      "cell_type": "markdown",
      "metadata": {
        "id": "view-in-github",
        "colab_type": "text"
      },
      "source": [
        "<a href=\"https://colab.research.google.com/github/ebrabena/DSA-58010/blob/main/Caesar_Cipher.ipynb\" target=\"_parent\"><img src=\"https://colab.research.google.com/assets/colab-badge.svg\" alt=\"Open In Colab\"/></a>"
      ]
    },
    {
      "cell_type": "code",
      "source": [
        "msg = input(str(\"Enter a word or phrase: \"))\n",
        "alphabet = 'ABCDEFGHIJKLMNOPQRSTUVWXYZabcdefghijklmnopqrstuvwxyz'\n",
        "amt = int(input(\"Enter desired cipher sequence: \"))\n",
        "\n",
        "for key in range(len(alphabet) - amt):\n",
        "   caesar = ''\n",
        "   for symbol in msg:\n",
        "      if symbol in alphabet:\n",
        "         num = alphabet.find(symbol)\n",
        "         num = num - key\n",
        "         if num < 0:\n",
        "            num = num + len(alphabet)\n",
        "         caesar = caesar + alphabet[num]\n",
        "      else:\n",
        "         caesar = caesar + symbol\n",
        "\n",
        "print('Original output:\\n', msg)\n",
        "print('Sequence', amt, 'output:\\n', caesar)"
      ],
      "metadata": {
        "colab": {
          "base_uri": "https://localhost:8080/"
        },
        "id": "H0sm-DK6StdX",
        "outputId": "ffe92ae7-5bb4-4aa7-865f-bd6527cbb7eb"
      },
      "execution_count": null,
      "outputs": [
        {
          "output_type": "stream",
          "name": "stdout",
          "text": [
            "Enter a word or phrase: Hello\n",
            "Enter desired cipher sequence: \n",
            "12\n",
            "Original output:\n",
            " Hello\n",
            "Sequence 12 output:\n",
            " UryyB\n"
          ]
        }
      ]
    }
  ]
}