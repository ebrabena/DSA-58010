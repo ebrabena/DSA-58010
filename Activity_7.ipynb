{
  "nbformat": 4,
  "nbformat_minor": 0,
  "metadata": {
    "colab": {
      "provenance": [],
      "authorship_tag": "ABX9TyNvGzQmEO1pOfvAqJB0VXAU",
      "include_colab_link": true
    },
    "kernelspec": {
      "name": "python3",
      "display_name": "Python 3"
    },
    "language_info": {
      "name": "python"
    }
  },
  "cells": [
    {
      "cell_type": "markdown",
      "metadata": {
        "id": "view-in-github",
        "colab_type": "text"
      },
      "source": [
        "<a href=\"https://colab.research.google.com/github/ebrabena/DSA-58010/blob/main/Activity_7.ipynb\" target=\"_parent\"><img src=\"https://colab.research.google.com/assets/colab-badge.svg\" alt=\"Open In Colab\"/></a>"
      ]
    },
    {
      "cell_type": "code",
      "execution_count": 7,
      "metadata": {
        "colab": {
          "base_uri": "https://localhost:8080/"
        },
        "id": "oDytbo-jqobD",
        "outputId": "4a01303f-40c4-4249-9056-d828f0092b8c"
      },
      "outputs": [
        {
          "output_type": "stream",
          "name": "stdout",
          "text": [
            "G28 = [('e', 'k'), ('e', 'i'), ('e', 'j'), ('e', 'm'), ('f', 'j'), ('f', 'k'), ('f', 'p'), ('h', 'i'), ('h', 'j'), ('h', 'k'), ('i', 'f')]\n"
          ]
        }
      ],
      "source": [
        "from collections import defaultdict\n",
        "\n",
        "graph = defaultdict(list)\n",
        "\n",
        "def connect(graph,v,e):\n",
        "    graph[v].append(e)\n",
        "\n",
        "def G28(graph):\n",
        "    edges = []\n",
        "    for node in graph:\n",
        "        for neighbour in graph[node]:\n",
        "            edges.append((node, neighbour))\n",
        "    return edges\n",
        "\n",
        "connect(graph,'e','k')\n",
        "connect(graph,'e','i')\n",
        "connect(graph,'e','j')\n",
        "connect(graph,'e','m')\n",
        "connect(graph,'f','j')\n",
        "connect(graph,'f','k')\n",
        "connect(graph,'f','p')\n",
        "connect(graph,'h','i')\n",
        "connect(graph,'h','j')\n",
        "connect(graph,'h','k')\n",
        "connect(graph,'i','f')\n",
        "\n",
        "print('G28 =',G28(graph))"
      ]
    }
  ]
}