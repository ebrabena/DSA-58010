{
  "nbformat": 4,
  "nbformat_minor": 0,
  "metadata": {
    "colab": {
      "name": "Practical_Lab_Exam_Rabena.ipynb",
      "provenance": [],
      "collapsed_sections": [],
      "authorship_tag": "ABX9TyOQ1OUTXG69d35YNn/Knx6p",
      "include_colab_link": true
    },
    "kernelspec": {
      "name": "python3",
      "display_name": "Python 3"
    },
    "language_info": {
      "name": "python"
    }
  },
  "cells": [
    {
      "cell_type": "markdown",
      "metadata": {
        "id": "view-in-github",
        "colab_type": "text"
      },
      "source": [
        "<a href=\"https://colab.research.google.com/github/ebrabena/DSA-58010/blob/main/Practical_Lab_Exam_Rabena.ipynb\" target=\"_parent\"><img src=\"https://colab.research.google.com/assets/colab-badge.svg\" alt=\"Open In Colab\"/></a>"
      ]
    },
    {
      "cell_type": "code",
      "source": [
        "val = [26, 49, 98, 87, 62, 75]\n",
        "\n",
        "even = []\n",
        "\n",
        "for i in val:\n",
        "    if(i % 2 == 0):\n",
        "        even.append(i)\n",
        "\n",
        "Sum = sum(even)\n",
        "print(even,'=',Sum)"
      ],
      "metadata": {
        "colab": {
          "base_uri": "https://localhost:8080/"
        },
        "id": "sLMQVxcT8REF",
        "outputId": "b124213d-5d93-4ae0-966b-0ca94001671d"
      },
      "execution_count": null,
      "outputs": [
        {
          "output_type": "stream",
          "name": "stdout",
          "text": [
            "[26, 98, 62] = 186\n"
          ]
        }
      ]
    }
  ]
}