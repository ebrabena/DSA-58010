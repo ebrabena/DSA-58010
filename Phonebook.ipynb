{
  "nbformat": 4,
  "nbformat_minor": 0,
  "metadata": {
    "colab": {
      "provenance": [],
      "authorship_tag": "ABX9TyPVkXvEV/6dOJTi75zFcs6Z",
      "include_colab_link": true
    },
    "kernelspec": {
      "name": "python3",
      "display_name": "Python 3"
    },
    "language_info": {
      "name": "python"
    }
  },
  "cells": [
    {
      "cell_type": "markdown",
      "metadata": {
        "id": "view-in-github",
        "colab_type": "text"
      },
      "source": [
        "<a href=\"https://colab.research.google.com/github/ebrabena/DSA-58010/blob/main/Phonebook.ipynb\" target=\"_parent\"><img src=\"https://colab.research.google.com/assets/colab-badge.svg\" alt=\"Open In Colab\"/></a>"
      ]
    },
    {
      "cell_type": "code",
      "execution_count": 1,
      "metadata": {
        "colab": {
          "base_uri": "https://localhost:8080/"
        },
        "id": "4I9h6aoIlFIE",
        "outputId": "25b9cf9c-495e-4053-953e-7443c4042afa"
      },
      "outputs": [
        {
          "output_type": "stream",
          "name": "stdout",
          "text": [
            "Type 'end' to cancel or to end session.\n",
            "\n",
            "Enter a number: 09339221078\n",
            "Name your contact: edrian\n",
            "Confirm? (type y to confirm)\n",
            "y\n",
            "Contacts stored: 1 \n",
            "\n",
            "Enter a number: 09218732832\n",
            "Name your contact: random\n",
            "Confirm? (type y to confirm)\n",
            "y\n",
            "Contacts stored: 2 \n",
            "\n",
            "Enter a number: 09662831243\n",
            "Name your contact: random2\n",
            "Confirm? (type y to confirm)\n",
            "y\n",
            "Contacts stored: 3 \n",
            "\n",
            "Enter a number: 1923828931893\n",
            "Name your contact: mistake\n",
            "Confirm? (type y to confirm)\n",
            "n\n",
            "Contacts stored: 3 \n",
            "\n",
            "Enter a number: end\n",
            "Name your contact: end\n",
            "Confirm? (type y to confirm)\n",
            "end\n",
            "\n",
            " Number: Names:\n",
            "09339221078 edrian\n",
            "09218732832 random\n",
            "09662831243 random2\n"
          ]
        }
      ],
      "source": [
        "print(\"Type 'end' to cancel or to end session.\\n\")\n",
        "\n",
        "numbers = [\"Number:\"]\n",
        "names = [\"Names:\"]\n",
        "table = [numbers, names]\n",
        "\n",
        "while True:\n",
        "  num = input(\"Enter a number: \")\n",
        "  numbers.append(num)\n",
        "  id = input(\"Name your contact: \")\n",
        "  names.append(id)\n",
        "  while True:\n",
        "    con1 = input(\"Confirm? (type y to confirm)\\n\")\n",
        "    if con1 != 'y':\n",
        "      numbers.pop()\n",
        "      names.pop()\n",
        "      break\n",
        "    else:\n",
        "      break\n",
        "  if num != 'end':\n",
        "    length = len(numbers)\n",
        "    print(\"Contacts stored:\", (length-1),\"\\n\")\n",
        "  else:\n",
        "    break\n",
        "\n",
        "res = \"\\n\".join(\"{} {}\".format(x, y) for x, y in zip(numbers, names))\n",
        "print(\"\\n\",res)"
      ]
    }
  ]
}